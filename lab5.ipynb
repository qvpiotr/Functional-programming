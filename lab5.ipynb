{
 "cells": [
  {
   "cell_type": "code",
   "execution_count": 1,
   "metadata": {},
   "outputs": [
    {
     "data": {
      "text/plain": [
       "What is your happy number? Hm, even number? Unusual!"
      ]
     },
     "metadata": {},
     "output_type": "display_data"
    }
   ],
   "source": [
    "doDialog = do\n",
    "    putStr \"What is your happy number? \"\n",
    "    line <- getLine\n",
    "    let num = read line :: Int\n",
    "    if num == 7\n",
    "    then putStrLn \"Ah, lucky 7!\"\n",
    "    else if odd num\n",
    "         then putStrLn \"Odd number! That's most people's choice...\"\n",
    "         else putStrLn \"Hm, even number? Unusual!\"\n",
    "\n",
    "doDialog"
   ]
  },
  {
   "cell_type": "code",
   "execution_count": 3,
   "metadata": {},
   "outputs": [
    {
     "data": {
      "text/plain": [
       "echo1 echo2"
      ]
     },
     "metadata": {},
     "output_type": "display_data"
    }
   ],
   "source": [
    "doEcho3 = do\n",
    "    line1 <- getLine\n",
    "    line2 <- getLine\n",
    "    putStrLn $ line1 ++ \" \" ++ line2\n",
    "    \n",
    "doEcho3"
   ]
  },
  {
   "cell_type": "code",
   "execution_count": 4,
   "metadata": {},
   "outputs": [
    {
     "data": {
      "text/plain": [
       "What is your name? How old are you? \n",
       "(\"Piotr\",\"13\")"
      ]
     },
     "metadata": {},
     "output_type": "display_data"
    },
    {
     "data": {
      "text/html": [
       "<style>/* Styles used for the Hoogle display in the pager */\n",
       ".hoogle-doc {\n",
       "display: block;\n",
       "padding-bottom: 1.3em;\n",
       "padding-left: 0.4em;\n",
       "}\n",
       ".hoogle-code {\n",
       "display: block;\n",
       "font-family: monospace;\n",
       "white-space: pre;\n",
       "}\n",
       ".hoogle-text {\n",
       "display: block;\n",
       "}\n",
       ".hoogle-name {\n",
       "color: green;\n",
       "font-weight: bold;\n",
       "}\n",
       ".hoogle-head {\n",
       "font-weight: bold;\n",
       "}\n",
       ".hoogle-sub {\n",
       "display: block;\n",
       "margin-left: 0.4em;\n",
       "}\n",
       ".hoogle-package {\n",
       "font-weight: bold;\n",
       "font-style: italic;\n",
       "}\n",
       ".hoogle-module {\n",
       "font-weight: bold;\n",
       "}\n",
       ".hoogle-class {\n",
       "font-weight: bold;\n",
       "}\n",
       ".get-type {\n",
       "color: green;\n",
       "font-weight: bold;\n",
       "font-family: monospace;\n",
       "display: block;\n",
       "white-space: pre-wrap;\n",
       "}\n",
       ".show-type {\n",
       "color: green;\n",
       "font-weight: bold;\n",
       "font-family: monospace;\n",
       "margin-left: 1em;\n",
       "}\n",
       ".mono {\n",
       "font-family: monospace;\n",
       "display: block;\n",
       "}\n",
       ".err-msg {\n",
       "color: red;\n",
       "font-style: italic;\n",
       "font-family: monospace;\n",
       "white-space: pre;\n",
       "display: block;\n",
       "}\n",
       "#unshowable {\n",
       "color: red;\n",
       "font-weight: bold;\n",
       "}\n",
       ".err-msg.in.collapse {\n",
       "padding-top: 0.7em;\n",
       "}\n",
       ".highlight-code {\n",
       "white-space: pre;\n",
       "font-family: monospace;\n",
       "}\n",
       ".suggestion-warning { \n",
       "font-weight: bold;\n",
       "color: rgb(200, 130, 0);\n",
       "}\n",
       ".suggestion-error { \n",
       "font-weight: bold;\n",
       "color: red;\n",
       "}\n",
       ".suggestion-name {\n",
       "font-weight: bold;\n",
       "}\n",
       "</style><span class='get-type'>twoQuestions1 :: IO ()</span>"
      ],
      "text/plain": [
       "twoQuestions1 :: IO ()"
      ]
     },
     "metadata": {},
     "output_type": "display_data"
    }
   ],
   "source": [
    "twoQuestions :: IO ()\n",
    "twoQuestions = do\n",
    "  putStr \"What is your name? \"\n",
    "  name <- getLine\n",
    "  putStr \"How old are you? \"\n",
    "  age <- getLine\n",
    "  print (name,age)\n",
    "  \n",
    "twoQuestions1 = putStr \"What is your name? \"\n",
    "                >> getLine\n",
    "                >>= \\n -> putStrLn \"How old are you? \"\n",
    "                >> getLine\n",
    "                >>= \\a -> print(n,a)\n",
    "\n",
    "                \n",
    "twoQuestions1\n",
    ":t twoQuestions1"
   ]
  },
  {
   "cell_type": "code",
   "execution_count": 6,
   "metadata": {},
   "outputs": [],
   "source": [
    "{-# LANGUAGE DeriveFunctor #-}\n",
    "\n",
    "data MyList a = EmptyList\n",
    "              | Cons a (MyList a) deriving (Show, Functor)"
   ]
  },
  {
   "cell_type": "code",
   "execution_count": 7,
   "metadata": {},
   "outputs": [
    {
     "data": {
      "text/plain": [
       "EmptyList"
      ]
     },
     "metadata": {},
     "output_type": "display_data"
    },
    {
     "data": {
      "text/plain": [
       "Cons 1 (Cons 2 (Cons 3 (Cons 4 EmptyList)))"
      ]
     },
     "metadata": {},
     "output_type": "display_data"
    },
    {
     "data": {
      "text/plain": [
       "Cons 1 (Cons 1 (Cons 1 (Cons 1 EmptyList)))"
      ]
     },
     "metadata": {},
     "output_type": "display_data"
    },
    {
     "data": {
      "text/plain": [
       "Cons 2 (Cons 4 (Cons 6 (Cons 8 EmptyList)))"
      ]
     },
     "metadata": {},
     "output_type": "display_data"
    },
    {
     "data": {
      "text/plain": [
       "Cons True (Cons False (Cons True (Cons False EmptyList)))"
      ]
     },
     "metadata": {},
     "output_type": "display_data"
    }
   ],
   "source": [
    "fmap (*2) EmptyList\n",
    "let lst1 = Cons 1 (Cons 2 (Cons 3 (Cons 4 EmptyList)))\n",
    "fmap id lst1\n",
    "fmap (const 1) lst1\n",
    "fmap (*2) lst1\n",
    "fmap odd lst1"
   ]
  },
  {
   "cell_type": "code",
   "execution_count": 13,
   "metadata": {},
   "outputs": [],
   "source": [
    "-- {-# LANGUAGE DeriveFunctor #-}\n",
    "\n",
    "-- data BinTree a = EmptyBT | NodeBT a (BinTree a) (BinTree a) deriving (Show,Functor)"
   ]
  },
  {
   "cell_type": "code",
   "execution_count": 31,
   "metadata": {},
   "outputs": [],
   "source": [
    "data BinTree a = EmptyBT | NodeBT a (BinTree a) (BinTree a) deriving (Show)\n",
    "\n",
    "instance Functor BinTree where\n",
    "  fmap _ EmptyBT    = EmptyBT\n",
    "  fmap f (NodeBT a l r) = NodeBT (f a) (fmap f l) (fmap f r)"
   ]
  },
  {
   "cell_type": "code",
   "execution_count": 32,
   "metadata": {},
   "outputs": [
    {
     "data": {
      "text/plain": [
       "EmptyBT"
      ]
     },
     "metadata": {},
     "output_type": "display_data"
    }
   ],
   "source": [
    "fmap (*2) EmptyBT"
   ]
  },
  {
   "cell_type": "code",
   "execution_count": 35,
   "metadata": {},
   "outputs": [],
   "source": [
    "newtype MyTriple a = MyTriple (a,a,a) deriving Show\n",
    "\n",
    "instance Functor MyTriple where\n",
    "  fmap f (MyTriple (x, y, z)) = MyTriple (f x, f y, f z)\n",
    "\n",
    "instance Applicative MyTriple where\n",
    "  pure a = MyTriple (a, a, a)\n",
    "  (MyTriple (f, g, h)) <*> MyTriple (x, y, z) = MyTriple (f x, g y, h z)"
   ]
  }
 ],
 "metadata": {
  "kernelspec": {
   "display_name": "Haskell",
   "language": "haskell",
   "name": "haskell"
  },
  "language_info": {
   "codemirror_mode": "ihaskell",
   "file_extension": ".hs",
   "name": "haskell",
   "pygments_lexer": "Haskell",
   "version": "8.6.5"
  }
 },
 "nbformat": 4,
 "nbformat_minor": 4
}
